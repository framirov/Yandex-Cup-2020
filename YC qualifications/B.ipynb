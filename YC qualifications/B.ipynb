{
 "cells": [
  {
   "cell_type": "code",
   "execution_count": null,
   "metadata": {},
   "outputs": [],
   "source": [
    "def raznie(a, b, c, d, e, f):\n",
    "    if (a == b == c == d == e) |(a == b == c == d == f)|(a == b == c == f == e)|(a == b == f == d == e)|(a == f == c == d == e)|(f == b == c == d == e):\n",
    "        return(False)\n",
    "    else:\n",
    "        return(True)\n",
    "\n",
    "def fact(x):\n",
    "    y = 1\n",
    "    if (x > 0):\n",
    "        for i in range(1, x + 1):\n",
    "            y *= i\n",
    "    return(y)\n",
    "        \n",
    "def cnk(n, k):\n",
    "    return(fact(n) / (fact(k) * fact(n-k)))\n",
    "\n",
    "summ = 0\n",
    "razl = set()\n",
    "for a in range (7, 15):\n",
    "    for b in range (a, 15):\n",
    "        for c in range (b, 15):\n",
    "            for d in range (c, 15):\n",
    "                for e in range (d, 15):\n",
    "                    for f in range(e, 15):\n",
    "                        if (a + b + c + d + e + f == 50) & raznie(a, b, c, d, e, f):\n",
    "                            #print(str(a)+' '+str(b)+' '+str(c)+' '+str(d)+' '+str(e)+' '+str(f))\n",
    "                            col = {7:0,8:0,9:0,10:0,11:0,12:0,13:0,14:0}\n",
    "                            col[a] += 1\n",
    "                            col[b]+= 1\n",
    "                            col[c]+= 1\n",
    "                            col[d]+= 1\n",
    "                            col[e]+= 1\n",
    "                            col[f] += 1\n",
    "                            x = cnk(4,col[7]) * cnk(4,col[8]) * cnk(4,col[9]) * cnk(4,col[10]) * cnk(4,col[11]) * cnk(4,col[12]) * cnk(4,col[13]) * cnk(4,col[14])\n",
    "                            summ +=x\n",
    "allsum = cnk(32,6)\n",
    "ans = summ / allsum\n",
    "print(ans)"
   ]
  }
 ],
 "metadata": {
  "kernelspec": {
   "display_name": "Python 3",
   "language": "python",
   "name": "python3"
  },
  "language_info": {
   "codemirror_mode": {
    "name": "ipython",
    "version": 3
   },
   "file_extension": ".py",
   "mimetype": "text/x-python",
   "name": "python",
   "nbconvert_exporter": "python",
   "pygments_lexer": "ipython3",
   "version": "3.8.3"
  }
 },
 "nbformat": 4,
 "nbformat_minor": 4
}
