{
 "cells": [
  {
   "cell_type": "code",
   "execution_count": 20,
   "metadata": {},
   "outputs": [
    {
     "name": "stdout",
     "output_type": "stream",
     "text": [
      "3\n",
      "-7 9 0\n",
      "OK\n",
      "-6 -4 1\n",
      "OK\n",
      "0 1 0\n",
      "NO\n",
      "{0: [0, 1, -7, 9], 1: [-6, -4, -6, -4]}\n"
     ]
    }
   ],
   "source": [
    "n = int(input())\n",
    "fl = True\n",
    "colors = {}\n",
    "for i in range(n):\n",
    "    segm = [int(x) for x in input().strip().split(' ')]\n",
    "    if (segm[2] not in colors):\n",
    "        colors[segm[2]] = [segm[0], segm[1], segm[0], segm[1]]\n",
    "    for c in colors:\n",
    "        if c == segm[2]:\n",
    "            if ((segm[0] >= colors[c][0]) & (segm[1] <= colors[c][1])):\n",
    "                colors[c][0] = segm[0]\n",
    "                colors[c][1] = segm[1]\n",
    "            elif ((segm[0] <= colors[c][2]) & (segm[1] >= colors[c][2])):\n",
    "                colors[c][2] = segm[0]\n",
    "                colors[c][3] = segm[1]\n",
    "        if c != segm[2]:\n",
    "            if not (((segm[0] >= colors[c][0]) & (segm[1] <= colors[c][1])) | ((segm[0] <= colors[c][2]) & (segm[1] >= colors[c][3]))):\n",
    "                fl = False\n",
    "                break\n",
    "    if not fl:\n",
    "        break\n",
    "    #print('OK')\n",
    "if (fl):\n",
    "    print('YES')\n",
    "else:\n",
    "    print('NO')\n",
    "#print(colors)"
   ]
  },
  {
   "cell_type": "markdown",
   "metadata": {},
   "source": []
  },
  {
   "cell_type": "code",
   "execution_count": null,
   "metadata": {},
   "outputs": [],
   "source": []
  },
  {
   "cell_type": "code",
   "execution_count": 29,
   "metadata": {},
   "outputs": [
    {
     "name": "stdout",
     "output_type": "stream",
     "text": [
      "2\n",
      "-7 9 2\n",
      "-6 -4 1\n",
      "YES\n"
     ]
    }
   ],
   "source": [
    "def isin(x,y):\n",
    "    if ((x[0] > y[0]) & (x[1] < y[1])):\n",
    "        return(True)\n",
    "    else:\n",
    "        return (False)\n",
    "\n",
    "n = int(input())\n",
    "fl = True\n",
    "colors_min = {}\n",
    "colors_max = {}\n",
    "for i in range(n):\n",
    "    a, b, c = [int(x) for x in input().strip().split(' ')]\n",
    "    if (c in colors_min):\n",
    "        if (colors_min[c] == [0, 0]):\n",
    "            continue\n",
    "        colors_min[c] = [max(a, colors_min[c][0]), min(b, colors_min[c][1])]\n",
    "        colors_max[c] = [min(a, colors_max[c][0]), max(b, colors_max[c][1])]\n",
    "        if (colors_min[c][0] > colors_min[c][1]):\n",
    "            colors_min[c] = [0, 0]\n",
    "    else:\n",
    "        colors_min[c] = [a, b]\n",
    "        colors_max[c] = [a, b]\n",
    "    for j in colors_min:            \n",
    "        if (c != j):\n",
    "            if (colors_min[j] == [0, 0]):\n",
    "                fl = False\n",
    "                break\n",
    "            s = [a,b]\n",
    "            if (isin(s, colors_min[j]) | isin(colors_max[j], s)):\n",
    "                continue\n",
    "            else:\n",
    "                fl = False\n",
    "                break\n",
    "    if (fl == False):\n",
    "        break\n",
    "if (fl):\n",
    "    print('YES')\n",
    "else:\n",
    "    print('NO')"
   ]
  },
  {
   "cell_type": "code",
   "execution_count": 40,
   "metadata": {},
   "outputs": [
    {
     "name": "stdout",
     "output_type": "stream",
     "text": [
      "2\n",
      "-7 9 2\n",
      "-6 -4 1\n",
      "YES\n"
     ]
    }
   ],
   "source": [
    "def isin(x,y):\n",
    "    if ((x[0] > y[0]) & (x[1] < y[1])):\n",
    "        return(True)\n",
    "    else:\n",
    "        return (False)\n",
    "\n",
    "n = int(input())\n",
    "fl = True\n",
    "colors_min = {}\n",
    "colors_max = {}\n",
    "was = set()\n",
    "for i in range(n):\n",
    "    a, b, c = [int(x) for x in input().strip().split(' ')]\n",
    "    if (c in was):\n",
    "        colors_min[c] = [max(a, colors_min[c][0]), min(b, colors_min[c][1])]\n",
    "        colors_max[c] = [min(a, colors_max[c][0]), max(b, colors_max[c][1])]\n",
    "    else:\n",
    "        was.add(c)\n",
    "        colors_min[c] = [a, b]\n",
    "        colors_max[c] = [a, b]\n",
    "    for j in colors_min:            \n",
    "        if (c != j):\n",
    "            if not (isin([a,b], colors_min[j]) | isin(colors_max[j], [a,b])):\n",
    "                fl = False\n",
    "                break\n",
    "    if (fl == False):\n",
    "        break\n",
    "if (fl):\n",
    "    print('YES')\n",
    "else:\n",
    "    print('NO')"
   ]
  },
  {
   "cell_type": "markdown",
   "metadata": {},
   "source": []
  }
 ],
 "metadata": {
  "kernelspec": {
   "display_name": "Python 3",
   "language": "python",
   "name": "python3"
  },
  "language_info": {
   "codemirror_mode": {
    "name": "ipython",
    "version": 3
   },
   "file_extension": ".py",
   "mimetype": "text/x-python",
   "name": "python",
   "nbconvert_exporter": "python",
   "pygments_lexer": "ipython3",
   "version": "3.8.3"
  }
 },
 "nbformat": 4,
 "nbformat_minor": 4
}
