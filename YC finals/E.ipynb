{
 "cells": [
  {
   "cell_type": "code",
   "execution_count": 13,
   "metadata": {},
   "outputs": [
    {
     "name": "stdout",
     "output_type": "stream",
     "text": [
      "10\n",
      "0.038708149452435635\n"
     ]
    },
    {
     "data": {
      "text/plain": [
       "0.9393822592244162"
      ]
     },
     "execution_count": 13,
     "metadata": {},
     "output_type": "execute_result"
    }
   ],
   "source": [
    "def f(x):\n",
    "    return(x/((x ** 2) - 5 * x + 10))\n",
    "def cnk(n, k):\n",
    "    return(fact(n) / (fact(k) * fact(n-k)))\n",
    "def fact(x):\n",
    "    y = 1\n",
    "    if (x > 0):\n",
    "        for i in range(1, x + 1):\n",
    "            y *= i\n",
    "    return(y)\n",
    "\n",
    "def one_mean(n):\n",
    "    summ = 0\n",
    "    var = 0\n",
    "    for j in range (1, n+1):\n",
    "        p = 0\n",
    "        for i in range(1, j + 1):\n",
    "            p += cnk(j, i) * (f(j) ** i) *  ((1-f(j)) ** (j-i))\n",
    "        summ += p * cnk(n, j)\n",
    "        var += cnk(n, j)\n",
    "    return(summ/var)\n",
    "qq = 1\n",
    "ans = 0\n",
    "for q in range(1, 30):\n",
    "    a = one_mean(q) ** 52\n",
    "    if (a > ans):\n",
    "        qq = q\n",
    "        ans = a\n",
    "print(qq)\n",
    "print(ans)\n",
    "one_mean(10)"
   ]
  },
  {
   "cell_type": "code",
   "execution_count": null,
   "metadata": {},
   "outputs": [],
   "source": []
  },
  {
   "cell_type": "code",
   "execution_count": null,
   "metadata": {},
   "outputs": [],
   "source": []
  }
 ],
 "metadata": {
  "kernelspec": {
   "display_name": "Python 3",
   "language": "python",
   "name": "python3"
  },
  "language_info": {
   "codemirror_mode": {
    "name": "ipython",
    "version": 3
   },
   "file_extension": ".py",
   "mimetype": "text/x-python",
   "name": "python",
   "nbconvert_exporter": "python",
   "pygments_lexer": "ipython3",
   "version": "3.8.3"
  }
 },
 "nbformat": 4,
 "nbformat_minor": 4
}
